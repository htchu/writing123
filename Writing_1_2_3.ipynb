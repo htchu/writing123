{
  "nbformat": 4,
  "nbformat_minor": 0,
  "metadata": {
    "colab": {
      "provenance": []
    },
    "kernelspec": {
      "name": "python3",
      "display_name": "Python 3"
    },
    "language_info": {
      "name": "python"
    }
  },
  "cells": [
    {
      "cell_type": "markdown",
      "source": [
        "# Writing 1-2-3 Template\n",
        "Your Paper, Your Way\n",
        "\n",
        "\n",
        "https://esajournals.onlinelibrary.wiley.com/doi/full/10.1002/bes2.1258\n",
        "\n",
        "https://www.elsevier.com/authors/tools-and-resources/your-paper-your-way"
      ],
      "metadata": {
        "id": "yHVOX1ZWnWnV"
      }
    },
    {
      "cell_type": "markdown",
      "source": [
        "## One topic \n"
      ],
      "metadata": {
        "id": "TjoB7HT_ntTy"
      }
    },
    {
      "cell_type": "markdown",
      "source": [
        "## Two figures\n"
      ],
      "metadata": {
        "id": "TI3Ci_Plw6Si"
      }
    },
    {
      "cell_type": "markdown",
      "source": [
        "## Two tables"
      ],
      "metadata": {
        "id": "wg6k-knVw95E"
      }
    },
    {
      "cell_type": "markdown",
      "source": [
        "## Three webs\n"
      ],
      "metadata": {
        "id": "0KCYbtEvyELB"
      }
    },
    {
      "cell_type": "markdown",
      "source": [],
      "metadata": {
        "id": "jSFP-VCU_tMr"
      }
    },
    {
      "cell_type": "markdown",
      "source": [
        "## Three references"
      ],
      "metadata": {
        "id": "1bk_kII8yIld"
      }
    },
    {
      "cell_type": "markdown",
      "source": [],
      "metadata": {
        "id": "nOAIGFo9AHnu"
      }
    },
    {
      "cell_type": "code",
      "source": [],
      "metadata": {
        "id": "lf_aaLrD8m2M"
      },
      "execution_count": null,
      "outputs": []
    },
    {
      "cell_type": "markdown",
      "source": [
        "## Three paragraphs"
      ],
      "metadata": {
        "id": "VhxOB6czyLyy"
      }
    },
    {
      "cell_type": "markdown",
      "source": [
        "## Round 1: ()"
      ],
      "metadata": {
        "id": "SkBg2labyQB9"
      }
    },
    {
      "cell_type": "markdown",
      "source": [],
      "metadata": {
        "id": "Im1bCEFiAj4e"
      }
    },
    {
      "cell_type": "markdown",
      "source": [
        "## Round 2: ()"
      ],
      "metadata": {
        "id": "lwI47615yddG"
      }
    },
    {
      "cell_type": "code",
      "source": [],
      "metadata": {
        "id": "RlnSunw-GjWq"
      },
      "execution_count": null,
      "outputs": []
    },
    {
      "cell_type": "markdown",
      "source": [
        "## Round 3: ()"
      ],
      "metadata": {
        "id": "QKLaH5LYyeUT"
      }
    },
    {
      "cell_type": "markdown",
      "source": [
        "![bes21258-fig-0001-m[1].png](https://esajournals.onlinelibrary.wiley.com/cms/asset/5709f482-b637-454c-a50d-abcf55ab28ba/bes21258-fig-0001-m.png)"
      ],
      "metadata": {
        "id": "7O-WPVD6GhA_"
      }
    }
  ]
}